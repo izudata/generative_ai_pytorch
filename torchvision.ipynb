{
  "nbformat": 4,
  "nbformat_minor": 0,
  "metadata": {
    "colab": {
      "provenance": [],
      "gpuType": "T4",
      "authorship_tag": "ABX9TyNOnWh5vHCkNogi1lBfNxL6"
    },
    "kernelspec": {
      "name": "python3",
      "display_name": "Python 3"
    },
    "language_info": {
      "name": "python"
    },
    "accelerator": "GPU"
  },
  "cells": [
    {
      "cell_type": "code",
      "source": [
        "# Import necessary libraries\n",
        "import torch\n",
        "import torch.nn as nn\n",
        "import torchvision\n",
        "import torchvision.transforms as T\n",
        "from torch.utils.data import DataLoader"
      ],
      "metadata": {
        "id": "LmOuaO4HBo_C"
      },
      "execution_count": 6,
      "outputs": []
    },
    {
      "cell_type": "code",
      "source": [
        "torch.manual_seed(20250301)"
      ],
      "metadata": {
        "id": "48WW7IVa3n-L"
      },
      "execution_count": null,
      "outputs": []
    },
    {
      "cell_type": "code",
      "source": [
        "transform = T.Compose([\n",
        "    T.ToTensor(),\n",
        "    T.Normalize([0.5],[0.5])\n",
        "])"
      ],
      "metadata": {
        "id": "_Af9CH6s8LSM"
      },
      "execution_count": 8,
      "outputs": []
    },
    {
      "cell_type": "code",
      "source": [
        "train_set = torchvision.datasets.FashionMNIST(\n",
        "    root=\".\",\n",
        "    train=True,\n",
        "    download=True,\n",
        "    transform=transform\n",
        ")\n"
      ],
      "metadata": {
        "id": "TJUBDX8s8VYq"
      },
      "execution_count": null,
      "outputs": []
    },
    {
      "cell_type": "code",
      "source": [
        "print(train_set[0])"
      ],
      "metadata": {
        "id": "HePpMtQbBRmj"
      },
      "execution_count": null,
      "outputs": []
    },
    {
      "cell_type": "code",
      "source": [
        "text_labels = ['t-shirt', 'trouser', 'pullover', 'dress', 'coat', 'sandal', 'shirt', 'sneaker', 'bag', 'ankle boot']"
      ],
      "metadata": {
        "id": "PzkRFjyjarMv"
      },
      "execution_count": 11,
      "outputs": []
    },
    {
      "cell_type": "code",
      "source": [
        "!pip install matplotlib\n",
        "import matplotlib.pyplot as plt"
      ],
      "metadata": {
        "id": "GO463BXcdaXX"
      },
      "execution_count": null,
      "outputs": []
    },
    {
      "cell_type": "code",
      "source": [
        "plt.figure(dpi = 300, figsize=(8,4))\n",
        "for i in range(24):\n",
        "  ax=plt.subplot(3, 8, i + 1)\n",
        "  img=train_set[i] [0]\n",
        "  img=img/2+0.5\n",
        "  img=img.reshape(28, 28)\n",
        "  plt.imshow(img,\n",
        "             cmap=\"binary\")\n",
        "  plt.axis('off')\n",
        "  plt.title(text_labels[train_set[i] [1]],\n",
        "            fontsize=8)\n",
        "  plt.show()"
      ],
      "metadata": {
        "id": "ge9BmTVzdi7H"
      },
      "execution_count": null,
      "outputs": []
    },
    {
      "cell_type": "code",
      "source": [],
      "metadata": {
        "id": "Rrd8peQ5f5wm"
      },
      "execution_count": null,
      "outputs": []
    }
  ]
}